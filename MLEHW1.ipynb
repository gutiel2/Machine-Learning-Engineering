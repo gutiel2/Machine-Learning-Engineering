{
  "cells": [
    {
      "cell_type": "markdown",
      "metadata": {
        "id": "view-in-github",
        "colab_type": "text"
      },
      "source": [
        "<a href=\"https://colab.research.google.com/github/gutiel2/Machine-Learning-Engineering/blob/main/MLEHW1.ipynb\" target=\"_parent\"><img src=\"https://colab.research.google.com/assets/colab-badge.svg\" alt=\"Open In Colab\"/></a>"
      ]
    },
    {
      "cell_type": "markdown",
      "metadata": {
        "id": "nQbt5uyTBJ7r"
      },
      "source": [
        "# Mateo Gutierrez\n",
        "# MLE -  Homework 1\n",
        "# RIN: 662006635"
      ]
    },
    {
      "cell_type": "markdown",
      "metadata": {
        "id": "udLNl14GBg6z"
      },
      "source": [
        "Problem 1: Consider feature vectors x1 = [2 3 4 8 9]^T and x2 = [2 -3 -4 89]^T.\n",
        "(a) How many features are there in x1 and x2?\n",
        "\n",
        "(b) What are the L1, L2, Linf norms for each feature vector?\n",
        "\n",
        "\n"
      ]
    },
    {
      "cell_type": "code",
      "execution_count": 15,
      "metadata": {
        "colab": {
          "base_uri": "https://localhost:8080/"
        },
        "id": "FVzXXrMYBbbF",
        "outputId": "47ef5ecf-5e44-4d94-8019-3f45496c1977"
      },
      "outputs": [
        {
          "output_type": "stream",
          "name": "stdout",
          "text": [
            "X1 L1 =  26\n",
            "X2 L1 =  98\n",
            "X1 L2 =  13.19090595827292\n",
            "X2 L2 =  90.13323471394999\n",
            "X1 Linf =  9\n",
            "X2 Linf =  89\n",
            "norm_1 = 89.0\n"
          ]
        }
      ],
      "source": [
        "# Problem 1a\n",
        "\"\"\"\n",
        "Solution:\n",
        "X1 has 5 features.\n",
        "X2 has 4 features.\n",
        "\"\"\"\n",
        "\n",
        "# Problem 1b\n",
        "import numpy as np\n",
        "from numpy import linalg as la\n",
        "\n",
        "x1 = np.array([2, 3, 4, 8, 9])\n",
        "x2 = np.array([2, -3, -4, 89])\n",
        "\n",
        "# Initializing Values\n",
        "sum_l1_x1 = 0\n",
        "sum_l1_x2 = 0\n",
        "sum_l2_x1 = 0\n",
        "sum_l2_x2 = 0\n",
        "sum_linf_x1 = 0\n",
        "sum_linf_x2 = 0\n",
        "inter = 0\n",
        "\n",
        "# L1 - Manhattan Norm\n",
        "for i in range(len(x1)):\n",
        "  sum_l1_x1 += np.abs(x1[i])\n",
        "print('X1 L1 = ', sum_l1_x1)\n",
        "\n",
        "for j in range(len(x2)):\n",
        "  sum_l1_x2 += np.abs(x2[j])\n",
        "print('X2 L1 = ', sum_l1_x2)\n",
        "\n",
        "# L1 - Eucledian Norm\n",
        "for k in range(len(x1)):\n",
        "  inter += x1[k]**2\n",
        "sum_l2_x1 = np.sqrt(inter)\n",
        "print('X1 L2 = ', sum_l2_x1)\n",
        "\n",
        "for k in range(len(x2)):\n",
        "  inter += x2[k]**2\n",
        "sum_l2_x2 = np.sqrt(inter)\n",
        "print('X2 L2 = ', sum_l2_x2)\n",
        "\n",
        "# Linf - Max-Norm\n",
        "inter_x1 = np.abs(x1)\n",
        "sum_linf_x1 = np.max(inter_x1)\n",
        "print('X1 Linf = ', sum_linf_x1)\n",
        "\n",
        "inter_x2 = np.abs(x2)\n",
        "sum_linf_x2 = np.max(inter_x2)\n",
        "print('X2 Linf = ', sum_linf_x2)\n"
      ]
    },
    {
      "cell_type": "markdown",
      "metadata": {
        "id": "pmQADeGfJ8vV"
      },
      "source": [
        "Problem 2: A color image of size 1024x1024 is input to an algorithm which outputs a 64x64 color image representing some important portions of the original image. [Hint: a color image comprises of multiple channels] (a) If the input is converted to a vector, 𝐱 , calculate the length of the feature vector. (b) If the output is converted to a vector, 𝐲, calculate the length of the output vector. (c) The algorithm relates the input and output vectors, 𝐱 and 𝐲 respectively, as 𝐲 = 𝑊𝐱+𝐛,where Wisamatrix and 𝐛 is a vector. How many elements are there in matrix W? How many elements are in vector b?"
      ]
    },
    {
      "cell_type": "code",
      "execution_count": 1,
      "metadata": {
        "colab": {
          "base_uri": "https://localhost:8080/",
          "height": 125
        },
        "id": "WsCwTcn8HKrH",
        "outputId": "59d07e52-2631-43d8-ce19-a899802bf6e8"
      },
      "outputs": [
        {
          "output_type": "stream",
          "name": "stdout",
          "text": [
            "Input Vector =  3145728\n",
            "Output Vector =  12288\n"
          ]
        },
        {
          "output_type": "execute_result",
          "data": {
            "text/plain": [
              "\"\\nThe algorithm matches the inputs and outputs using the formula y = Wx + b. From\\nthe laws basic tensor laws a few properties of W and b can be derived. Since y\\nwill have a size of 4096 b must also have that size due to the addition property.\\nW is performing a matrix-vector operation and therefore must follow the\\nmatrices' columns must be equal to the vectors rows. Therfore the matrices'\\ncolumns must be equal to the size of the output vector, x. Lastly, due to the\\naddition property the vector lengths must be equivalent therefore the matrices'\\nrows must equal to the length of b. Therefore the W matrix dimensions are\\n(length of y, length of x) or (4096, 1048576).\\n\\nb vector: (1, 4096)\\nW matrix: (4096, 1048576)\\n\""
            ],
            "application/vnd.google.colaboratory.intrinsic+json": {
              "type": "string"
            }
          },
          "metadata": {},
          "execution_count": 1
        }
      ],
      "source": [
        "# Problem 2a\n",
        "\n",
        "\"\"\"\n",
        "Since the matrix is 1024 x 1024 x 3 if it were to be a flattened into a vector then\n",
        "the vector would be the length of m * n * (number of channels)\n",
        "\"\"\"\n",
        "\n",
        "input_vector = 1024 * 1024 * 3\n",
        "print('Input Vector = ', input_vector)\n",
        "\n",
        "# Problem 2b\n",
        "\n",
        "\"\"\"\n",
        "Following the same logic with an output matrix if converted to a vector\n",
        "the vector would be a length of m * n\n",
        "\"\"\"\n",
        "\n",
        "output_vector = 64 * 64 * 3\n",
        "print('Output Vector = ', output_vector)\n",
        "\n",
        "# Problem 2c\n",
        "\"\"\"\n",
        "The algorithm matches the inputs and outputs using the formula y = Wx + b. From\n",
        "the laws basic tensor laws a few properties of W and b can be derived. Since y\n",
        "will have a size of 12288 b must also have that size due to the addition property.\n",
        "W is performing a matrix-vector operation and therefore must follow the\n",
        "matrices' columns must be equal to the vectors rows. Therfore the matrices'\n",
        "columns must be equal to the size of the output vector, x. Lastly, due to the\n",
        "addition property the vector lengths must be equivalent therefore the matrices'\n",
        "rows must equal to the length of b. Therefore the W matrix dimensions are\n",
        "(length of y, length of x) or (12288, 3145728).\n",
        "\n",
        "b vector: (1, 12288)\n",
        "W matrix: (12288, 3145728)\n",
        "\"\"\""
      ]
    },
    {
      "cell_type": "markdown",
      "metadata": {
        "id": "GcL2hdWBT9V3"
      },
      "source": [
        "Problem 3: Calculate 1-norm, 2-norm, ∞-norm, and Frobenius norm of the W matrix."
      ]
    },
    {
      "cell_type": "code",
      "execution_count": 5,
      "metadata": {
        "colab": {
          "base_uri": "https://localhost:8080/"
        },
        "id": "Omp7mNLaQrmK",
        "outputId": "ff81a41c-6f6f-4836-bf97-a09319a46571"
      },
      "outputs": [
        {
          "output_type": "stream",
          "name": "stdout",
          "text": [
            "norm_1 = 3.0\n",
            "norm_2 = 2.2882456112707374\n",
            "inf_norm = 2.0\n",
            "Frobenius Norm =  2.449489742783178\n"
          ]
        }
      ],
      "source": [
        "# Problem 3\n",
        "\n",
        "import numpy as np\n",
        "from numpy import linalg as LA\n",
        "\n",
        "w = np.matrix([[1, -1], [2, 0]])\n",
        "\n",
        "norm = 0\n",
        "norm_inf = 0\n",
        "\n",
        "# Assuming N x N matrix\n",
        "\n",
        "# Problem 3a 1-Norm\n",
        "norm_1 = LA.norm(w, ord=1)\n",
        "print(f\"{norm_1 = }\")\n",
        "\n",
        "# Problem 3b 2-Norm\n",
        "norm_2 = LA.norm(w, ord=2)\n",
        "print(f\"{norm_2 = }\")\n",
        "\n",
        "# Problem 3c inf-Norm\n",
        "inf_norm = LA.norm(w, ord=np.inf)\n",
        "print(f\"{inf_norm = }\")\n",
        "\n",
        "# Problem 3d Forbenius Norm\n",
        "norm_f = LA.norm(w, 'fro')\n",
        "print('Frobenius Norm = ', norm_f)"
      ]
    },
    {
      "cell_type": "markdown",
      "metadata": {
        "id": "oUR97RQy84pi"
      },
      "source": [
        "Problem 4: Use the Iris dataset and the code shown in class, but choose 3 out of the 4 original features instead of two and calculate the accuracy score of classification."
      ]
    },
    {
      "cell_type": "code",
      "execution_count": null,
      "metadata": {
        "id": "BtrYcb579P4F"
      },
      "outputs": [],
      "source": [
        "# Problem 4\n",
        "\n",
        "# Below is modified in class code\n",
        "from sklearn import datasets\n",
        "iris = datasets.load_iris()\n"
      ]
    },
    {
      "cell_type": "code",
      "execution_count": null,
      "metadata": {
        "colab": {
          "base_uri": "https://localhost:8080/"
        },
        "id": "uMDic3X0C8If",
        "outputId": "43374f9c-3bf6-4a70-b6cb-5ef073a76211"
      },
      "outputs": [
        {
          "name": "stdout",
          "output_type": "stream",
          "text": [
            "accuracy score : 0.9666666666666667\n"
          ]
        }
      ],
      "source": [
        "X = iris.data[:, :3] # Utilizing three out of four of the features\n",
        "y = iris.target\n",
        "\n",
        "# Splitting the data while keeping some of the data seperate and testing for\n",
        "# the model\n",
        "from sklearn.model_selection import train_test_split\n",
        "\n",
        "X_train, X_test, y_train, y_test=train_test_split(\n",
        "    X,y,\n",
        "    test_size=0.40, # 40% percent used for testing\n",
        "    train_size=0.60, # 60 % used for training\n",
        "    random_state=123,\n",
        "    shuffle=True,\n",
        "    stratify=y)\n",
        "\n",
        "# Importing support vector machine model\n",
        "from sklearn import svm\n",
        "\n",
        "clf = svm.SVC()\n",
        "clf.fit(X_train, y_train)\n",
        "\n",
        "from sklearn.metrics import accuracy_score\n",
        "acc = accuracy_score(y_test,clf.predict(X_test) )\n",
        "print('accuracy score :', acc)"
      ]
    },
    {
      "cell_type": "markdown",
      "metadata": {
        "id": "YEkbKOLzFYVT"
      },
      "source": [
        "Problem 5: In class, we used a neural network to learn how to calculate square root. Use that code and ideas to teach a neural network how to calculate the 7-th root of any integer between 1 and 100."
      ]
    },
    {
      "cell_type": "code",
      "execution_count": null,
      "metadata": {
        "colab": {
          "base_uri": "https://localhost:8080/",
          "height": 605
        },
        "id": "JOH5TB5TFZuY",
        "outputId": "82d142bd-c937-4ff6-accf-0acac8d9a7c5"
      },
      "outputs": [
        {
          "output_type": "stream",
          "name": "stderr",
          "text": [
            "/usr/local/lib/python3.10/dist-packages/keras/src/layers/core/dense.py:87: UserWarning: Do not pass an `input_shape`/`input_dim` argument to a layer. When using Sequential models, prefer using an `Input(shape)` object as the first layer in the model instead.\n",
            "  super().__init__(activity_regularizer=activity_regularizer, **kwargs)\n"
          ]
        },
        {
          "output_type": "display_data",
          "data": {
            "text/plain": [
              "\u001b[1mModel: \"sequential_6\"\u001b[0m\n"
            ],
            "text/html": [
              "<pre style=\"white-space:pre;overflow-x:auto;line-height:normal;font-family:Menlo,'DejaVu Sans Mono',consolas,'Courier New',monospace\"><span style=\"font-weight: bold\">Model: \"sequential_6\"</span>\n",
              "</pre>\n"
            ]
          },
          "metadata": {}
        },
        {
          "output_type": "display_data",
          "data": {
            "text/plain": [
              "┏━━━━━━━━━━━━━━━━━━━━━━━━━━━━━━━━━━━━━━┳━━━━━━━━━━━━━━━━━━━━━━━━━━━━━┳━━━━━━━━━━━━━━━━━┓\n",
              "┃\u001b[1m \u001b[0m\u001b[1mLayer (type)                        \u001b[0m\u001b[1m \u001b[0m┃\u001b[1m \u001b[0m\u001b[1mOutput Shape               \u001b[0m\u001b[1m \u001b[0m┃\u001b[1m \u001b[0m\u001b[1m        Param #\u001b[0m\u001b[1m \u001b[0m┃\n",
              "┡━━━━━━━━━━━━━━━━━━━━━━━━━━━━━━━━━━━━━━╇━━━━━━━━━━━━━━━━━━━━━━━━━━━━━╇━━━━━━━━━━━━━━━━━┩\n",
              "│ dense_21 (\u001b[38;5;33mDense\u001b[0m)                     │ (\u001b[38;5;45mNone\u001b[0m, \u001b[38;5;34m6\u001b[0m)                   │              \u001b[38;5;34m12\u001b[0m │\n",
              "├──────────────────────────────────────┼─────────────────────────────┼─────────────────┤\n",
              "│ dense_22 (\u001b[38;5;33mDense\u001b[0m)                     │ (\u001b[38;5;45mNone\u001b[0m, \u001b[38;5;34m6\u001b[0m)                   │              \u001b[38;5;34m42\u001b[0m │\n",
              "├──────────────────────────────────────┼─────────────────────────────┼─────────────────┤\n",
              "│ dense_23 (\u001b[38;5;33mDense\u001b[0m)                     │ (\u001b[38;5;45mNone\u001b[0m, \u001b[38;5;34m6\u001b[0m)                   │              \u001b[38;5;34m42\u001b[0m │\n",
              "├──────────────────────────────────────┼─────────────────────────────┼─────────────────┤\n",
              "│ dense_24 (\u001b[38;5;33mDense\u001b[0m)                     │ (\u001b[38;5;45mNone\u001b[0m, \u001b[38;5;34m1\u001b[0m)                   │               \u001b[38;5;34m7\u001b[0m │\n",
              "└──────────────────────────────────────┴─────────────────────────────┴─────────────────┘\n"
            ],
            "text/html": [
              "<pre style=\"white-space:pre;overflow-x:auto;line-height:normal;font-family:Menlo,'DejaVu Sans Mono',consolas,'Courier New',monospace\">┏━━━━━━━━━━━━━━━━━━━━━━━━━━━━━━━━━━━━━━┳━━━━━━━━━━━━━━━━━━━━━━━━━━━━━┳━━━━━━━━━━━━━━━━━┓\n",
              "┃<span style=\"font-weight: bold\"> Layer (type)                         </span>┃<span style=\"font-weight: bold\"> Output Shape                </span>┃<span style=\"font-weight: bold\">         Param # </span>┃\n",
              "┡━━━━━━━━━━━━━━━━━━━━━━━━━━━━━━━━━━━━━━╇━━━━━━━━━━━━━━━━━━━━━━━━━━━━━╇━━━━━━━━━━━━━━━━━┩\n",
              "│ dense_21 (<span style=\"color: #0087ff; text-decoration-color: #0087ff\">Dense</span>)                     │ (<span style=\"color: #00d7ff; text-decoration-color: #00d7ff\">None</span>, <span style=\"color: #00af00; text-decoration-color: #00af00\">6</span>)                   │              <span style=\"color: #00af00; text-decoration-color: #00af00\">12</span> │\n",
              "├──────────────────────────────────────┼─────────────────────────────┼─────────────────┤\n",
              "│ dense_22 (<span style=\"color: #0087ff; text-decoration-color: #0087ff\">Dense</span>)                     │ (<span style=\"color: #00d7ff; text-decoration-color: #00d7ff\">None</span>, <span style=\"color: #00af00; text-decoration-color: #00af00\">6</span>)                   │              <span style=\"color: #00af00; text-decoration-color: #00af00\">42</span> │\n",
              "├──────────────────────────────────────┼─────────────────────────────┼─────────────────┤\n",
              "│ dense_23 (<span style=\"color: #0087ff; text-decoration-color: #0087ff\">Dense</span>)                     │ (<span style=\"color: #00d7ff; text-decoration-color: #00d7ff\">None</span>, <span style=\"color: #00af00; text-decoration-color: #00af00\">6</span>)                   │              <span style=\"color: #00af00; text-decoration-color: #00af00\">42</span> │\n",
              "├──────────────────────────────────────┼─────────────────────────────┼─────────────────┤\n",
              "│ dense_24 (<span style=\"color: #0087ff; text-decoration-color: #0087ff\">Dense</span>)                     │ (<span style=\"color: #00d7ff; text-decoration-color: #00d7ff\">None</span>, <span style=\"color: #00af00; text-decoration-color: #00af00\">1</span>)                   │               <span style=\"color: #00af00; text-decoration-color: #00af00\">7</span> │\n",
              "└──────────────────────────────────────┴─────────────────────────────┴─────────────────┘\n",
              "</pre>\n"
            ]
          },
          "metadata": {}
        },
        {
          "output_type": "display_data",
          "data": {
            "text/plain": [
              "\u001b[1m Total params: \u001b[0m\u001b[38;5;34m311\u001b[0m (1.22 KB)\n"
            ],
            "text/html": [
              "<pre style=\"white-space:pre;overflow-x:auto;line-height:normal;font-family:Menlo,'DejaVu Sans Mono',consolas,'Courier New',monospace\"><span style=\"font-weight: bold\"> Total params: </span><span style=\"color: #00af00; text-decoration-color: #00af00\">311</span> (1.22 KB)\n",
              "</pre>\n"
            ]
          },
          "metadata": {}
        },
        {
          "output_type": "display_data",
          "data": {
            "text/plain": [
              "\u001b[1m Trainable params: \u001b[0m\u001b[38;5;34m103\u001b[0m (412.00 B)\n"
            ],
            "text/html": [
              "<pre style=\"white-space:pre;overflow-x:auto;line-height:normal;font-family:Menlo,'DejaVu Sans Mono',consolas,'Courier New',monospace\"><span style=\"font-weight: bold\"> Trainable params: </span><span style=\"color: #00af00; text-decoration-color: #00af00\">103</span> (412.00 B)\n",
              "</pre>\n"
            ]
          },
          "metadata": {}
        },
        {
          "output_type": "display_data",
          "data": {
            "text/plain": [
              "\u001b[1m Non-trainable params: \u001b[0m\u001b[38;5;34m0\u001b[0m (0.00 B)\n"
            ],
            "text/html": [
              "<pre style=\"white-space:pre;overflow-x:auto;line-height:normal;font-family:Menlo,'DejaVu Sans Mono',consolas,'Courier New',monospace\"><span style=\"font-weight: bold\"> Non-trainable params: </span><span style=\"color: #00af00; text-decoration-color: #00af00\">0</span> (0.00 B)\n",
              "</pre>\n"
            ]
          },
          "metadata": {}
        },
        {
          "output_type": "display_data",
          "data": {
            "text/plain": [
              "\u001b[1m Optimizer params: \u001b[0m\u001b[38;5;34m208\u001b[0m (836.00 B)\n"
            ],
            "text/html": [
              "<pre style=\"white-space:pre;overflow-x:auto;line-height:normal;font-family:Menlo,'DejaVu Sans Mono',consolas,'Courier New',monospace\"><span style=\"font-weight: bold\"> Optimizer params: </span><span style=\"color: #00af00; text-decoration-color: #00af00\">208</span> (836.00 B)\n",
              "</pre>\n"
            ]
          },
          "metadata": {}
        },
        {
          "output_type": "stream",
          "name": "stdout",
          "text": [
            "\u001b[1m1/1\u001b[0m \u001b[32m━━━━━━━━━━━━━━━━━━━━\u001b[0m\u001b[37m\u001b[0m \u001b[1m0s\u001b[0m 102ms/step\n",
            "[1.0] => 1.12 (expected 1.00)\n",
            "[4.0] => 1.25 (expected 1.22)\n",
            "[9.0] => 1.34 (expected 1.37)\n",
            "[16.0] => 1.39 (expected 1.49)\n",
            "[25.0] => 1.46 (expected 1.58)\n",
            "[36.0] => 1.55 (expected 1.67)\n",
            "[49.0] => 1.65 (expected 1.74)\n",
            "[64.0] => 1.77 (expected 1.81)\n",
            "[81.0] => 1.91 (expected 1.87)\n",
            "[100.0] => 2.06 (expected 1.93)\n"
          ]
        },
        {
          "output_type": "stream",
          "name": "stderr",
          "text": [
            "<ipython-input-17-17996996a666>:43: DeprecationWarning: Conversion of an array with ndim > 0 to a scalar is deprecated, and will error in future. Ensure you extract a single element from your array before performing this operation. (Deprecated NumPy 1.25.)\n",
            "  print('%s => %.2f (expected %.2f)' %(X[i].tolist(), predictions[i], y[i]) )\n"
          ]
        },
        {
          "output_type": "execute_result",
          "data": {
            "text/plain": [
              "'\\nOutput:\\n[1.0] => 1.00 (expected 1.00)\\n[4.0] => 1.37 (expected 1.22)\\n[9.0] => 1.41 (expected 1.37)\\n[16.0] => 1.45 (expected 1.49)\\n[25.0] => 1.51 (expected 1.58)\\n[36.0] => 1.59 (expected 1.67)\\n[49.0] => 1.67 (expected 1.74)\\n[64.0] => 1.78 (expected 1.81)\\n[81.0] => 1.89 (expected 1.87)\\n[100.0] => 2.02 (expected 1.93)\\n'"
            ],
            "application/vnd.google.colaboratory.intrinsic+json": {
              "type": "string"
            }
          },
          "metadata": {},
          "execution_count": 17
        }
      ],
      "source": [
        "# Taken from in class lecture code\n",
        "\n",
        "import tensorflow as tf\n",
        "from numpy import loadtxt\n",
        "from keras.models import Sequential\n",
        "from keras.layers import Dense\n",
        "from keras import optimizers\n",
        "from tensorflow.python.keras.optimizers import *\n",
        "import numpy as np\n",
        "\n",
        "\n",
        "#Load dataset\n",
        "#split into input (X) and output (y)\n",
        "X = np.array([[1], [4], [9], [16], [25], [36], [49], [64], [81], [100]])\n",
        "X = X*1.0\n",
        "#y = np.array([[1], [1.219], [1.369], [1.486], [1.5838], [1.6685], [1.7436], [1.8114], [1.8734], [1.9307]])\n",
        "y = X**(1/7)\n",
        "y = y*1.0\n",
        "\n",
        "#define keras model\n",
        "model = Sequential()\n",
        "\n",
        "model.add(Dense(6,input_dim=1,activation='relu'))\n",
        "model.add(Dense(6,activation='relu'))\n",
        "model.add(Dense(6,activation='relu'))\n",
        "model.add(Dense(1))\n",
        "\n",
        "#compile the keras model\n",
        "opt = optimizers.Adam(learning_rate=0.001)\n",
        "mse = tf.keras.losses.MeanSquaredError(\n",
        "    reduction=tf.keras.losses.Reduction.SUM)\n",
        "model.compile(loss=mse, optimizer=opt)\n",
        "\n",
        "#fit the keras model on the dataset (CPU)\n",
        "model.fit(X,y,epochs=2000,batch_size=10, verbose=0)\n",
        "model.summary()\n",
        "\n",
        "#make class predictions with the model\n",
        "predictions = model.predict(X)\n",
        "\n",
        "#summarize the first 10 cases\n",
        "for i in range(10):\n",
        "    print('%s => %.2f (expected %.2f)' %(X[i].tolist(), predictions[i], y[i]) )\n",
        "\n",
        "\"\"\"\n",
        "Example Output:\n",
        "[1.0] => 1.00 (expected 1.00)\n",
        "[4.0] => 1.37 (expected 1.22)\n",
        "[9.0] => 1.41 (expected 1.37)\n",
        "[16.0] => 1.45 (expected 1.49)\n",
        "[25.0] => 1.51 (expected 1.58)\n",
        "[36.0] => 1.59 (expected 1.67)\n",
        "[49.0] => 1.67 (expected 1.74)\n",
        "[64.0] => 1.78 (expected 1.81)\n",
        "[81.0] => 1.89 (expected 1.87)\n",
        "[100.0] => 2.02 (expected 1.93)\n",
        "\"\"\""
      ]
    },
    {
      "cell_type": "markdown",
      "metadata": {
        "id": "lvkRp5d-Z-Jz"
      },
      "source": [
        "Problem 6: Use the Iris dataset and the neural network code shown in class to create a neural network model that takes sepal length as input and predicts petal length as output. [Hint: Use Numpy or Pandas to wrangle Iris dataset to help define your input and output. You are free to define the number of neurons in each layer.]"
      ]
    },
    {
      "cell_type": "code",
      "execution_count": null,
      "metadata": {
        "id": "FzxAZXCQLyTf"
      },
      "outputs": [],
      "source": [
        "# Taken from in class lecture code\n",
        "\n",
        "# This section deals with how the data initilization\n",
        "\n",
        "# Dependencies\n",
        "import numpy as np\n",
        "import tensorflow as tf\n",
        "from tensorflow.keras import Sequential\n",
        "from tensorflow.keras.layers import Dense\n",
        "from sklearn import datasets\n",
        "from sklearn.model_selection import train_test_split\n",
        "from sklearn.preprocessing import MinMaxScaler\n",
        "from sklearn.metrics import r2_score\n",
        "import matplotlib.pyplot as plt\n",
        "\n",
        "\n",
        "# Load Iris dataset from sklearn\n",
        "iris = datasets.load_iris()\n",
        "\n",
        "# X = sepal length (the first feature)\n",
        "X = iris.data[:, 0].reshape(-1, 1)\n",
        "# y = petal length (the third feature)\n",
        "y = iris.data[:, 2].reshape(-1, 1)\n",
        "\n",
        "# Splitting into train/test\n",
        "X_train, X_test, y_train, y_test = train_test_split(\n",
        "    X, y, test_size=0.2, random_state=42\n",
        ")\n",
        "\n",
        "# Scale input and output data\n",
        "scaler_X = MinMaxScaler()\n",
        "scaler_y = MinMaxScaler()\n",
        "\n",
        "X_train_scaled = scaler_X.fit_transform(X_train)\n",
        "y_train_scaled = scaler_y.fit_transform(y_train)\n",
        "\n",
        "X_test_scaled = scaler_X.transform(X_test)\n",
        "y_test_scaled = scaler_y.transform(y_test)"
      ]
    },
    {
      "cell_type": "code",
      "source": [
        "# This section deals with model creation\n",
        "\n",
        "#define keras model\n",
        "model = Sequential()\n",
        "model.add(Dense(16, input_dim=1, activation='relu'))\n",
        "model.add(Dense(16, activation='relu'))\n",
        "model.add(Dense(1))  # Output layer for petal length\n",
        "\n",
        "# Compile the model\n",
        "model.compile(\n",
        "    loss='mean_squared_error',        # or 'mse'\n",
        "    optimizer=tf.keras.optimizers.Adam(learning_rate=0.001)\n",
        ")\n",
        "\n",
        "history = model.fit(\n",
        "    X_train_scaled,\n",
        "    y_train_scaled,\n",
        "    epochs=500,        # Increase if needed\n",
        "    batch_size=5,\n",
        "    verbose=0          # set to 1 for training progress\n",
        ")"
      ],
      "metadata": {
        "colab": {
          "base_uri": "https://localhost:8080/"
        },
        "id": "YFMXRG6ttHwY",
        "outputId": "b6d86848-eb9e-46dc-f0a0-0b646b32d6b2"
      },
      "execution_count": null,
      "outputs": [
        {
          "output_type": "stream",
          "name": "stderr",
          "text": [
            "/usr/local/lib/python3.10/dist-packages/keras/src/layers/core/dense.py:87: UserWarning: Do not pass an `input_shape`/`input_dim` argument to a layer. When using Sequential models, prefer using an `Input(shape)` object as the first layer in the model instead.\n",
            "  super().__init__(activity_regularizer=activity_regularizer, **kwargs)\n"
          ]
        }
      ]
    },
    {
      "cell_type": "code",
      "source": [
        "# Code section deals with model prediction\n",
        "\n",
        "# Predict on the test set\n",
        "predictions_scaled = model.predict(X_test_scaled)\n",
        "predictions = scaler_y.inverse_transform(predictions_scaled)\n",
        "\n",
        "# Compute R^2 score\n",
        "r2 = r2_score(y_test, predictions)\n",
        "print(f\"R² Score (Test): {r2:.2f}\")\n",
        "\n",
        "# Print out some sample predictions vs. actuals\n",
        "print(\"\\nSample Predictions:\")\n",
        "for i in range(20):\n",
        "    print(f\"Sepal Length: {X_test[i][0]:.1f}, \"\n",
        "          f\"Predicted Petal Length: {predictions[i][0]:.2f}, \"\n",
        "          f\"Actual Petal Length: {y_test[i][0]:.2f}\")\n",
        "    plt.plot(X[i][0], y_test[i][0], 'ro')\n",
        "    plt.plot(X[i][0], predictions[i][0], 'bo')\n",
        "\n",
        "plt.xlabel('Sepal Length')\n",
        "plt.ylabel('Petal Length')\n",
        "plt.title('Actual vs. Predicted Petal Length')"
      ],
      "metadata": {
        "colab": {
          "base_uri": "https://localhost:8080/",
          "height": 943
        },
        "id": "03qSjBBhtVQf",
        "outputId": "cf19aa4b-77fa-4863-8f63-c397c2cf56d2"
      },
      "execution_count": null,
      "outputs": [
        {
          "output_type": "stream",
          "name": "stderr",
          "text": [
            "WARNING:tensorflow:6 out of the last 8 calls to <function TensorFlowTrainer.make_predict_function.<locals>.one_step_on_data_distributed at 0x7bbdb17deef0> triggered tf.function retracing. Tracing is expensive and the excessive number of tracings could be due to (1) creating @tf.function repeatedly in a loop, (2) passing tensors with different shapes, (3) passing Python objects instead of tensors. For (1), please define your @tf.function outside of the loop. For (2), @tf.function has reduce_retracing=True option that can avoid unnecessary retracing. For (3), please refer to https://www.tensorflow.org/guide/function#controlling_retracing and https://www.tensorflow.org/api_docs/python/tf/function for  more details.\n"
          ]
        },
        {
          "output_type": "stream",
          "name": "stdout",
          "text": [
            "\u001b[1m1/1\u001b[0m \u001b[32m━━━━━━━━━━━━━━━━━━━━\u001b[0m\u001b[37m\u001b[0m \u001b[1m0s\u001b[0m 106ms/step\n",
            "R² Score (Test): 0.85\n",
            "\n",
            "Sample Predictions:\n",
            "Sepal Length: 6.1, Predicted Petal Length: 4.75, Actual Petal Length: 4.70\n",
            "Sepal Length: 5.7, Predicted Petal Length: 4.01, Actual Petal Length: 1.70\n",
            "Sepal Length: 7.7, Predicted Petal Length: 6.46, Actual Petal Length: 6.90\n",
            "Sepal Length: 6.0, Predicted Petal Length: 4.64, Actual Petal Length: 4.50\n",
            "Sepal Length: 6.8, Predicted Petal Length: 5.50, Actual Petal Length: 4.80\n",
            "Sepal Length: 5.4, Predicted Petal Length: 2.82, Actual Petal Length: 1.50\n",
            "Sepal Length: 5.6, Predicted Petal Length: 3.74, Actual Petal Length: 3.60\n",
            "Sepal Length: 6.9, Predicted Petal Length: 5.61, Actual Petal Length: 5.10\n",
            "Sepal Length: 6.2, Predicted Petal Length: 4.86, Actual Petal Length: 4.50\n",
            "Sepal Length: 5.8, Predicted Petal Length: 4.27, Actual Petal Length: 3.90\n",
            "Sepal Length: 6.5, Predicted Petal Length: 5.18, Actual Petal Length: 5.10\n",
            "Sepal Length: 4.8, Predicted Petal Length: 1.86, Actual Petal Length: 1.40\n",
            "Sepal Length: 5.5, Predicted Petal Length: 3.30, Actual Petal Length: 1.30\n",
            "Sepal Length: 4.9, Predicted Petal Length: 2.05, Actual Petal Length: 1.50\n",
            "Sepal Length: 5.1, Predicted Petal Length: 1.83, Actual Petal Length: 1.50\n",
            "Sepal Length: 6.3, Predicted Petal Length: 4.96, Actual Petal Length: 4.70\n",
            "Sepal Length: 6.5, Predicted Petal Length: 5.18, Actual Petal Length: 5.80\n",
            "Sepal Length: 5.6, Predicted Petal Length: 3.74, Actual Petal Length: 3.90\n",
            "Sepal Length: 5.7, Predicted Petal Length: 4.01, Actual Petal Length: 4.50\n",
            "Sepal Length: 6.4, Predicted Petal Length: 5.07, Actual Petal Length: 5.60\n"
          ]
        },
        {
          "output_type": "execute_result",
          "data": {
            "text/plain": [
              "Text(0.5, 1.0, 'Actual vs. Predicted Petal Length')"
            ]
          },
          "metadata": {},
          "execution_count": 15
        },
        {
          "output_type": "display_data",
          "data": {
            "text/plain": [
              "<Figure size 640x480 with 1 Axes>"
            ],
            "image/png": "[encoded data removed]"
          },
          "metadata": {}
        }
      ]
    }
  ],
  "metadata": {
    "accelerator": "GPU",
    "colab": {
      "gpuType": "T4",
      "provenance": [],
      "toc_visible": true,
      "authorship_tag": "ABX9TyOFJhE79dczMSzGdX6qyrCy",
      "include_colab_link": true
    },
    "kernelspec": {
      "display_name": "Python 3",
      "name": "python3"
    },
    "language_info": {
      "name": "python"
    }
  },
  "nbformat": 4,
  "nbformat_minor": 0
}